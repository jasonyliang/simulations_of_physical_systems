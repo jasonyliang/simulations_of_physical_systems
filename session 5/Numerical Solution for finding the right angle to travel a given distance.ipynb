{
 "cells": [
  {
   "cell_type": "code",
   "execution_count": 1,
   "metadata": {},
   "outputs": [],
   "source": [
    "import math\n",
    "import numpy as np\n",
    "import matplotlib.pyplot as plt"
   ]
  },
  {
   "cell_type": "markdown",
   "metadata": {},
   "source": [
    "# Activity 1: Preclass and Study Guide Review \n",
    "This extended question explores the problem of using different root finding techniques in the context of projectile motion. Given a velocity and how far you want to throw a projectile, it is still quite hard to find the right angle to throw it. We can use numerical simulations to find the angle using different root finding methods as below. This extended question from activity 1 will explore this aspect."
   ]
  },
  {
   "cell_type": "markdown",
   "metadata": {},
   "source": [
    "# Bisection method"
   ]
  },
  {
   "cell_type": "code",
   "execution_count": 33,
   "metadata": {},
   "outputs": [
    {
     "name": "stdout",
     "output_type": "stream",
     "text": [
      "Approximation:  0.07203642689204176\n"
     ]
    }
   ],
   "source": [
    "tolerance = 1e-6\n",
    "\n",
    "\n",
    "# define values\n",
    "v_0 = 10 # initial velocity\n",
    "g = 9.8 # graviry\n",
    "y_0 = 10 # 10 meters above ground\n",
    "del_x = 15 # traveling 100 meters\n",
    "# define the function where you need to find your root\n",
    "def f(x):\n",
    "    # we want to find the root for x(theta)\n",
    "    return v_0 * np.cos(x) *(1/g*(v_0*np.sin(x)+np.sqrt(v_0**2*np.sin(x)**2+2*g*y_0))) - del_x\n",
    "\n",
    "a, b = -np.pi/2, np.pi/2\n",
    "dx = abs(a-b)\n",
    "\n",
    "while dx > tolerance:\n",
    "    mid = (a+b)/2\n",
    "    #print(mid)\n",
    "    # print(f(a) * f(mid))\n",
    "    if (f(a) * f(mid)) < 0: # this means that 0 is between the two\n",
    "        b = mid\n",
    "    else:\n",
    "        a = mid\n",
    "    dx = abs(a-b)\n",
    "    #print(dx, tolerance)\n",
    "if abs(mid - np.pi/2) < tolerance:\n",
    "    print(\"Impossible to throw at this range\")\n",
    "else:\n",
    "    print(\"Approximation: \", mid)"
   ]
  },
  {
   "cell_type": "markdown",
   "metadata": {},
   "source": [
    "# Newton's Method"
   ]
  },
  {
   "cell_type": "code",
   "execution_count": 35,
   "metadata": {},
   "outputs": [
    {
     "name": "stdout",
     "output_type": "stream",
     "text": [
      "Approximation:  0.07203572854834508\n"
     ]
    }
   ],
   "source": [
    "from scipy.misc import derivative\n",
    "def f_prime(f, x):\n",
    "    return derivative(f, x, dx=1e-6)\n",
    "\n",
    "x = 0\n",
    "dx = 2 * tolerance\n",
    "while dx > tolerance:\n",
    "    x1 = x - f(x)/f_prime(f, x)\n",
    "    dx = abs(x1-x)\n",
    "    x = x1\n",
    "    if abs(x1) > np.pi: # going way too far\n",
    "        print(\"Impossible to throw at this range\")\n",
    "        break\n",
    "\n",
    "print(\"Approximation: \", x1)"
   ]
  },
  {
   "cell_type": "code",
   "execution_count": null,
   "metadata": {},
   "outputs": [],
   "source": []
  }
 ],
 "metadata": {
  "kernelspec": {
   "display_name": "Python 3",
   "language": "python",
   "name": "python3"
  },
  "language_info": {
   "codemirror_mode": {
    "name": "ipython",
    "version": 3
   },
   "file_extension": ".py",
   "mimetype": "text/x-python",
   "name": "python",
   "nbconvert_exporter": "python",
   "pygments_lexer": "ipython3",
   "version": "3.6.5"
  }
 },
 "nbformat": 4,
 "nbformat_minor": 2
}
