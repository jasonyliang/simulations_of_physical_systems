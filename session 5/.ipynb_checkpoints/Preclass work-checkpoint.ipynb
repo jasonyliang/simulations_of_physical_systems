{
 "cells": [
  {
   "cell_type": "code",
   "execution_count": 1,
   "metadata": {},
   "outputs": [],
   "source": [
    "import numpy as np\n",
    "import math\n",
    "import matplotlib.pyplot as plt"
   ]
  },
  {
   "cell_type": "code",
   "execution_count": 15,
   "metadata": {},
   "outputs": [],
   "source": [
    "def Projectile_Motion(y0, v0, theta, dt, g):\n",
    "    x_array, y_array = [0], [y0]\n",
    "    t_array = [0]\n",
    "    vx, vy = v0*np.cos(theta), v0*np.sin(theta)\n",
    "    while y_array[-1] > 0: # before it reaches the ground\n",
    "        # take one step\n",
    "        x_old, y_old = x_array[-1], y_array[-1]\n",
    "        x_new = x_old + vx*dt\n",
    "        y_new = y_old + vy*dt\n",
    "        if y_new < 0:\n",
    "            break\n",
    "        x_array.append(x_new)\n",
    "        y_array.append(y_new)\n",
    "        # velocity update\n",
    "        vy_old = vy\n",
    "        vy = vy_old + g * dt\n",
    "        \n",
    "        t_array.append(t_array[-1]+dt)\n",
    "    return x_array, y_array, t_array"
   ]
  },
  {
   "cell_type": "code",
   "execution_count": 24,
   "metadata": {},
   "outputs": [],
   "source": [
    "y0 = 10 # 10 meters above ground\n",
    "v0 = 10 # initial velocity 10 m/s\n",
    "theta = np.pi/3 # angle of throwing\n",
    "dt = 0.1 # timestep\n",
    "g = -9.8\n",
    "x1, y1, t1 = Projectile_Motion(y0, v0, theta, dt, g)\n",
    "x2, y2, t2 = Projectile_Motion(y0, 20, np.pi/10, dt, g)"
   ]
  },
  {
   "cell_type": "code",
   "execution_count": 25,
   "metadata": {},
   "outputs": [
    {
     "data": {
      "text/plain": [
       "[<matplotlib.lines.Line2D at 0x112a2a908>]"
      ]
     },
     "execution_count": 25,
     "metadata": {},
     "output_type": "execute_result"
    },
    {
     "data": {
      "image/png": "[encoded data removed]",
      "text/plain": [
       "<Figure size 432x288 with 1 Axes>"
      ]
     },
     "metadata": {
      "needs_background": "light"
     },
     "output_type": "display_data"
    }
   ],
   "source": [
    "plt.plot(x1,y1)\n",
    "plt.plot(x2,y2)"
   ]
  },
  {
   "cell_type": "code",
   "execution_count": null,
   "metadata": {},
   "outputs": [],
   "source": []
  },
  {
   "cell_type": "code",
   "execution_count": null,
   "metadata": {},
   "outputs": [],
   "source": []
  }
 ],
 "metadata": {
  "kernelspec": {
   "display_name": "Python 3",
   "language": "python",
   "name": "python3"
  },
  "language_info": {
   "codemirror_mode": {
    "name": "ipython",
    "version": 3
   },
   "file_extension": ".py",
   "mimetype": "text/x-python",
   "name": "python",
   "nbconvert_exporter": "python",
   "pygments_lexer": "ipython3",
   "version": "3.6.5"
  }
 },
 "nbformat": 4,
 "nbformat_minor": 2
}
