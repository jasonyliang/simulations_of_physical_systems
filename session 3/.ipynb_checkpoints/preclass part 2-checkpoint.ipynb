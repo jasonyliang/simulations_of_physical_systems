{
 "cells": [
  {
   "cell_type": "code",
   "execution_count": 8,
   "metadata": {},
   "outputs": [
    {
     "name": "stdout",
     "output_type": "stream",
     "text": [
      "Collecting odespy\n",
      "  Cloning https://github.com/hplgit/odespy.git to /private/var/folders/7c/z2vb2m5n7h5d4521_hn0wgc40000gq/T/pip-install-7ocpu_q1/odespy\n",
      "\u001b[31m    ERROR: Command errored out with exit status 1:\n",
      "     command: /usr/local/opt/python/bin/python3.6 -c 'import sys, setuptools, tokenize; sys.argv[0] = '\"'\"'/private/var/folders/7c/z2vb2m5n7h5d4521_hn0wgc40000gq/T/pip-install-7ocpu_q1/odespy/setup.py'\"'\"'; __file__='\"'\"'/private/var/folders/7c/z2vb2m5n7h5d4521_hn0wgc40000gq/T/pip-install-7ocpu_q1/odespy/setup.py'\"'\"';f=getattr(tokenize, '\"'\"'open'\"'\"', open)(__file__);code=f.read().replace('\"'\"'\\r\\n'\"'\"', '\"'\"'\\n'\"'\"');f.close();exec(compile(code, __file__, '\"'\"'exec'\"'\"'))' egg_info --egg-base /private/var/folders/7c/z2vb2m5n7h5d4521_hn0wgc40000gq/T/pip-pip-egg-info-yys4ipd7\n",
      "         cwd: /private/var/folders/7c/z2vb2m5n7h5d4521_hn0wgc40000gq/T/pip-install-7ocpu_q1/odespy/\n",
      "    Complete output (7 lines):\n",
      "    Traceback (most recent call last):\n",
      "      File \"<string>\", line 1, in <module>\n",
      "      File \"/private/var/folders/7c/z2vb2m5n7h5d4521_hn0wgc40000gq/T/pip-install-7ocpu_q1/odespy/setup.py\", line 21, in <module>\n",
      "        from odespy.version import full_version\n",
      "      File \"/private/var/folders/7c/z2vb2m5n7h5d4521_hn0wgc40000gq/T/pip-install-7ocpu_q1/odespy/odespy/__init__.py\", line 1258, in <module>\n",
      "        from solvers import *\n",
      "    ModuleNotFoundError: No module named 'solvers'\n",
      "    ----------------------------------------\u001b[0m\n",
      "\u001b[31mERROR: Command errored out with exit status 1: python setup.py egg_info Check the logs for full command output.\u001b[0m\n"
     ]
    }
   ],
   "source": [
    "! pip install git+https://github.com/hplgit/odespy.git#egg=odespy"
   ]
  },
  {
   "cell_type": "code",
   "execution_count": 2,
   "metadata": {},
   "outputs": [
    {
     "name": "stdout",
     "output_type": "stream",
     "text": [
      "stability limit: 0.00031250000000000006\n"
     ]
    }
   ],
   "source": [
    "\"\"\"Temperature evolution in a rod, computed by explicit odespy solvers.\"\"\"\n",
    "\n",
    "from numpy import linspace, zeros, linspace, array\n",
    "import matplotlib.pyplot as plt\n",
    "import time\n",
    "\n",
    "def rhs(u, t):\n",
    "    N = len(u) - 1\n",
    "    rhs = zeros(N+1)\n",
    "    rhs[0] = dsdt(t)\n",
    "    for i in range(1, N):\n",
    "        rhs[i] = (beta/dx**2)*(u[i+1] - 2*u[i] + u[i-1]) + \\\n",
    "                 f(x[i], t)\n",
    "    rhs[N] = (beta/dx**2)*(2*u[i-1] + 2*dx*dudx(t) -\n",
    "                           2*u[i]) + f(x[N], t)\n",
    "    return rhs\n",
    "\n",
    "def dudx(t):\n",
    "    return 0\n",
    "\n",
    "def s(t):\n",
    "    return 423\n",
    "\n",
    "def dsdt(t):\n",
    "    return 0\n",
    "\n",
    "def f(x, t):\n",
    "    return 0\n",
    "\n",
    "\n",
    "L = 1\n",
    "beta = 1\n",
    "N = 40\n",
    "x = linspace(0, L, N+1)\n",
    "dx = x[1] - x[0]\n",
    "u = zeros(N+1)\n",
    "\n",
    "U_0 = zeros(N+1)\n",
    "U_0[0] = s(0)\n",
    "U_0[1:] = 283\n",
    "dt = dx**2/(2*beta)\n",
    "print('stability limit:', dt)\n",
    "dt *= 100\n"
   ]
  },
  {
   "cell_type": "code",
   "execution_count": 6,
   "metadata": {},
   "outputs": [
    {
     "ename": "ModuleNotFoundError",
     "evalue": "No module named 'odespy'",
     "output_type": "error",
     "traceback": [
      "\u001b[0;31m---------------------------------------------------------------------------\u001b[0m",
      "\u001b[0;31mModuleNotFoundError\u001b[0m                       Traceback (most recent call last)",
      "\u001b[0;32m<ipython-input-6-114f15926b24>\u001b[0m in \u001b[0;36m<module>\u001b[0;34m()\u001b[0m\n\u001b[0;32m----> 1\u001b[0;31m \u001b[0;32mimport\u001b[0m \u001b[0modespy\u001b[0m\u001b[0;34m\u001b[0m\u001b[0m\n\u001b[0m\u001b[1;32m      2\u001b[0m \u001b[0msolver\u001b[0m \u001b[0;34m=\u001b[0m \u001b[0modespy\u001b[0m\u001b[0;34m.\u001b[0m\u001b[0mRKFehlberg\u001b[0m\u001b[0;34m(\u001b[0m\u001b[0mrhs\u001b[0m\u001b[0;34m,\u001b[0m \u001b[0mrtol\u001b[0m\u001b[0;34m=\u001b[0m\u001b[0;36m1E-6\u001b[0m\u001b[0;34m,\u001b[0m \u001b[0matol\u001b[0m\u001b[0;34m=\u001b[0m\u001b[0;36m1E-8\u001b[0m\u001b[0;34m)\u001b[0m\u001b[0;34m\u001b[0m\u001b[0m\n\u001b[1;32m      3\u001b[0m \u001b[0msolver\u001b[0m\u001b[0;34m.\u001b[0m\u001b[0mset_initial_condition\u001b[0m\u001b[0;34m(\u001b[0m\u001b[0mU_0\u001b[0m\u001b[0;34m)\u001b[0m\u001b[0;34m\u001b[0m\u001b[0m\n\u001b[1;32m      4\u001b[0m \u001b[0mT\u001b[0m \u001b[0;34m=\u001b[0m \u001b[0;36m1.2\u001b[0m\u001b[0;34m\u001b[0m\u001b[0m\n\u001b[1;32m      5\u001b[0m \u001b[0mN_t\u001b[0m \u001b[0;34m=\u001b[0m \u001b[0mint\u001b[0m\u001b[0;34m(\u001b[0m\u001b[0mround\u001b[0m\u001b[0;34m(\u001b[0m\u001b[0mT\u001b[0m\u001b[0;34m/\u001b[0m\u001b[0mfloat\u001b[0m\u001b[0;34m(\u001b[0m\u001b[0mdt\u001b[0m\u001b[0;34m)\u001b[0m\u001b[0;34m)\u001b[0m\u001b[0;34m)\u001b[0m\u001b[0;34m\u001b[0m\u001b[0m\n",
      "\u001b[0;31mModuleNotFoundError\u001b[0m: No module named 'odespy'"
     ]
    }
   ],
   "source": [
    "import odespy\n",
    "solver = odespy.RKFehlberg(rhs, rtol=1E-6, atol=1E-8)\n",
    "solver.set_initial_condition(U_0)\n",
    "T = 1.2\n",
    "N_t = int(round(T/float(dt)))\n",
    "time_points = linspace(0, T, N_t+1)\n",
    "u, t = solver.solve(time_points)\n",
    "\n",
    "# Check how many time steps required by adaptive vs\n",
    "# fixed-step methods\n",
    "if hasattr(solver, 't_all'):\n",
    "    print('# time steps:', len(solver.t_all))\n",
    "    plt.figure()\n",
    "    plt.plot(array(solver.t_all[1:]) - array(solver.t_all[:-1]))\n",
    "    plt.title('Evolution of the time step in %s' % solver.__class__.__name__)\n",
    "    plt.savefig('tmp.png'); plt.savefig('tmp.pdf')\n",
    "    plt.show()\n",
    "else:\n",
    "    print('# time steps:', len(t))\n",
    "\n",
    "# # Make movie\n",
    "# import os\n",
    "# os.system('rm tmp_*.png')\n",
    "# plt.figure()\n",
    "# plt.ion()\n",
    "# y = u[0,:]\n",
    "# lines = plt.plot(x, y)\n",
    "# plt.axis([x[0], x[-1], 273, 1.2*s(0)])\n",
    "# plt.xlabel('x')\n",
    "# plt.ylabel('u(x,t)')\n",
    "# counter = 0\n",
    "# for i in range(0, u.shape[0]):\n",
    "#     print t[i]\n",
    "#     lines[0].set_ydata(u[i,:])\n",
    "#     plt.legend(['t=%.3f' % t[i]])\n",
    "#     plt.draw()\n",
    "#     if i % 5 == 0: # plot every 5 steps\n",
    "#         plt.savefig('tmp_%04d.png' % counter)\n",
    "#         counter += 1\n",
    "#     #time.sleep(0.2)"
   ]
  },
  {
   "cell_type": "code",
   "execution_count": null,
   "metadata": {},
   "outputs": [],
   "source": [
    "solver = odespy.BackwardEuler(rhs, rtol=1E-6, atol=1E-8)\n",
    "solver.set_initial_condition(U_0)\n",
    "T = 1.2\n",
    "N_t = int(round(T/float(dt)))\n",
    "time_points = linspace(0, T, N_t+1)\n",
    "u, t = solver.solve(time_points)\n",
    "\n",
    "# Check how many time steps required by adaptive vs\n",
    "# fixed-step methods\n",
    "if hasattr(solver, 't_all'):\n",
    "    print('# time steps:', len(solver.t_all))\n",
    "    plt.figure()\n",
    "    plt.plot(array(solver.t_all[1:]) - array(solver.t_all[:-1]))\n",
    "    plt.title('Evolution of the time step in %s' % solver.__class__.__name__)\n",
    "    plt.savefig('tmp.png'); plt.savefig('tmp.pdf')\n",
    "    plt.show()\n",
    "else:\n",
    "    print('# time steps:', len(t))"
   ]
  },
  {
   "cell_type": "code",
   "execution_count": null,
   "metadata": {},
   "outputs": [],
   "source": [
    "solver = odespy.Backward2Step(rhs, rtol=1E-6, atol=1E-8)\n",
    "solver.set_initial_condition(U_0)\n",
    "T = 1.2\n",
    "N_t = int(round(T/float(dt)))\n",
    "time_points = linspace(0, T, N_t+1)\n",
    "u, t = solver.solve(time_points)\n",
    "\n",
    "# Check how many time steps required by adaptive vs\n",
    "# fixed-step methods\n",
    "if hasattr(solver, 't_all'):\n",
    "    print('# time steps:', len(solver.t_all))\n",
    "    plt.figure()\n",
    "    plt.plot(array(solver.t_all[1:]) - array(solver.t_all[:-1]))\n",
    "    plt.title('Evolution of the time step in %s' % solver.__class__.__name__)\n",
    "    plt.savefig('tmp.png'); plt.savefig('tmp.pdf')\n",
    "    plt.show()\n",
    "else:\n",
    "    print('# time steps:', len(t))\n"
   ]
  }
 ],
 "metadata": {
  "kernelspec": {
   "display_name": "Python 2",
   "language": "python",
   "name": "python2"
  },
  "language_info": {
   "codemirror_mode": {
    "name": "ipython",
    "version": 3
   },
   "file_extension": ".py",
   "mimetype": "text/x-python",
   "name": "python",
   "nbconvert_exporter": "python",
   "pygments_lexer": "ipython3",
   "version": "3.6.5"
  }
 },
 "nbformat": 4,
 "nbformat_minor": 2
}
