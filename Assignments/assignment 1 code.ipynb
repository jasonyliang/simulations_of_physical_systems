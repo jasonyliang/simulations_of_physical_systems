{
 "cells": [
  {
   "cell_type": "markdown",
   "metadata": {},
   "source": [
    "# Question 1\n",
    "For question 1, I explore the Heun's Method and the classic Runge–Kutta method (RK4). The mathematical formulation of these methods are explained in the main assignment report. In this notebook, I want to explore and compare the performance of these "
   ]
  },
  {
   "cell_type": "code",
   "execution_count": 23,
   "metadata": {},
   "outputs": [],
   "source": [
    "import numpy as np"
   ]
  },
  {
   "cell_type": "code",
   "execution_count": 24,
   "metadata": {},
   "outputs": [
    {
     "name": "stdout",
     "output_type": "stream",
     "text": [
      "Predicted: 475.9147022011742\n"
     ]
    }
   ],
   "source": [
    "lambd = np.log(2)/(1.17*60) # 1.17 minutes is the half-life\n",
    "h = 5\n",
    "N_0 = 500\n",
    "predicted = N_0 * np.exp(-lambd * h)\n",
    "print(f\"Predicted: {predicted}\")"
   ]
  },
  {
   "cell_type": "code",
   "execution_count": 25,
   "metadata": {},
   "outputs": [
    {
     "name": "stdout",
     "output_type": "stream",
     "text": [
      "Euler's method: 475.3152713475803\n"
     ]
    }
   ],
   "source": [
    "# Euler's method\n",
    "def f(y_0, lambd):\n",
    "    return -lambd*y_0\n",
    "\n",
    "euler = N_0 + f(N_0, lambd) * h\n",
    "print(f\"Euler's method: {euler}\")"
   ]
  },
  {
   "cell_type": "code",
   "execution_count": 26,
   "metadata": {},
   "outputs": [
    {
     "name": "stdout",
     "output_type": "stream",
     "text": [
      "475.3152713475803\n",
      "Heun's method: 475.9246071762239\n"
     ]
    }
   ],
   "source": [
    "# Heun's method\n",
    "temp_y = N_0 + f(N_0, lambd) * h\n",
    "print(temp_y)\n",
    "heun = N_0 + h/2 * (f(N_0, lambd) + f(temp_y, lambd))\n",
    "print(f\"Heun's method: {heun}\")"
   ]
  },
  {
   "cell_type": "code",
   "execution_count": 28,
   "metadata": {},
   "outputs": [
    {
     "name": "stdout",
     "output_type": "stream",
     "text": [
      "-4.9369457304839415 -4.815078564755224 -4.818086822672876 -4.699079398800984\n",
      "RK4 method: 475.91470341321576\n"
     ]
    }
   ],
   "source": [
    "# RK4\n",
    "k_1 = f(N_0, lambd)\n",
    "k_2 = f(N_0 + h*k_1/2, lambd)\n",
    "k_3 = f(N_0 + h*k_2/2, lambd)\n",
    "k_4 = f(N_0 + h*k_3, lambd)\n",
    "print(k_1, k_2, k_3, k_4)\n",
    "rk4 = N_0 + 1/6 * h * (k_1 + 2*k_2 + 2*k_3 + k_4)\n",
    "print(f\"RK4 method: {rk4}\")"
   ]
  },
  {
   "cell_type": "code",
   "execution_count": null,
   "metadata": {},
   "outputs": [],
   "source": []
  }
 ],
 "metadata": {
  "kernelspec": {
   "display_name": "Python 3",
   "language": "python",
   "name": "python3"
  },
  "language_info": {
   "codemirror_mode": {
    "name": "ipython",
    "version": 3
   },
   "file_extension": ".py",
   "mimetype": "text/x-python",
   "name": "python",
   "nbconvert_exporter": "python",
   "pygments_lexer": "ipython3",
   "version": "3.6.5"
  }
 },
 "nbformat": 4,
 "nbformat_minor": 2
}
