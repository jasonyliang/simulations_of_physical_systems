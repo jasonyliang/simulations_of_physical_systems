{
 "cells": [
  {
   "cell_type": "code",
   "execution_count": 2,
   "metadata": {},
   "outputs": [],
   "source": [
    "import numpy as np\n",
    "import matplotlib.pyplot as plt\n",
    "from numpy import linalg as LA\n"
   ]
  },
  {
   "cell_type": "code",
   "execution_count": null,
   "metadata": {},
   "outputs": [],
   "source": [
    "class NewtonCannon:\n",
    "    def __init__(self, radius, v0, height, g, massCenter, massObject):\n",
    "        self.radius = radius\n",
    "        self.v = v0\n",
    "        self.coord = [0, radius + height]\n",
    "        self.xpath = [0]\n",
    "        self.ypath = [radius+height]\n",
    "        self.g = g\n",
    "        self.massCenter = massCenter # mass of the object that is being orbitted around\n",
    "        self.massObject = massObject\n",
    "        self.G = 6.67408e-11 # gravitational constant\n",
    "    def step(self):\n",
    "        direction = self.coord / LA.norm(self.coord)\n",
    "        g_force = - self.G * self.massCenter * self.massObject / LA.norm(self.coord)**2\n",
    "        "
   ]
  },
  {
   "cell_type": "code",
   "execution_count": 4,
   "metadata": {},
   "outputs": [
    {
     "data": {
      "text/plain": [
       "array([0.70710678, 0.70710678])"
      ]
     },
     "execution_count": 4,
     "metadata": {},
     "output_type": "execute_result"
    }
   ],
   "source": [
    "a = [1,1]\n",
    "a/LA.norm(a)"
   ]
  },
  {
   "cell_type": "code",
   "execution_count": null,
   "metadata": {},
   "outputs": [],
   "source": []
  }
 ],
 "metadata": {
  "kernelspec": {
   "display_name": "Python 3",
   "language": "python",
   "name": "python3"
  },
  "language_info": {
   "codemirror_mode": {
    "name": "ipython",
    "version": 3
   },
   "file_extension": ".py",
   "mimetype": "text/x-python",
   "name": "python",
   "nbconvert_exporter": "python",
   "pygments_lexer": "ipython3",
   "version": "3.6.5"
  }
 },
 "nbformat": 4,
 "nbformat_minor": 2
}
